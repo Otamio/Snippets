{
 "cells": [
  {
   "cell_type": "code",
   "execution_count": 1,
   "metadata": {},
   "outputs": [],
   "source": [
    "using DelimitedFiles\n",
    "using Plots"
   ]
  },
  {
   "cell_type": "markdown",
   "metadata": {},
   "source": [
    "### Load Data"
   ]
  },
  {
   "cell_type": "code",
   "execution_count": 2,
   "metadata": {},
   "outputs": [],
   "source": [
    "Ids = readdlm(\"ids.txt\", String);\n",
    "movies = readdlm(\"movies.txt\", String);\n",
    "ratings = readdlm(\"ratings.txt\", ' ', '\\r');\n",
    "nstudents = size(Ids)[1];\n",
    "nmovies = size(movies)[1];\n",
    "\n",
    "prob_Z = readdlm(\"probZ_init.txt\");\n",
    "prob_R = readdlm(\"probR_init.txt\");\n",
    "dim_Z = size(prob_Z)[1];\n",
    "dim_R = size(prob_R)[1];"
   ]
  },
  {
   "cell_type": "markdown",
   "metadata": {},
   "source": [
    "### Part (a) Sanity check"
   ]
  },
  {
   "cell_type": "code",
   "execution_count": 3,
   "metadata": {},
   "outputs": [],
   "source": [
    "PerRecom = Dict{String, Float64}();\n",
    "\n",
    "for i in 1:nmovies\n",
    "    movieName::String = movies[i];\n",
    "    ct::Int64 = 0;\n",
    "    nRecom::Int64 = 0;\n",
    "    \n",
    "    for j in 1:nstudents\n",
    "        if ratings[j,i] == 1\n",
    "            ct += 1;\n",
    "            nRecom += 1;\n",
    "        elseif ratings[j,i] == 0\n",
    "            ct += 1;\n",
    "        end \n",
    "    end\n",
    "    \n",
    "    PerRecom[movieName] = nRecom / ct;\n",
    "end"
   ]
  },
  {
   "cell_type": "code",
   "execution_count": 4,
   "metadata": {},
   "outputs": [
    {
     "name": "stdout",
     "output_type": "stream",
     "text": [
      "The_Last_Airbender\t0.2112676056338028\n",
      "Fifty_Shades_of_Grey\t0.36\n",
      "I_Feel_Pretty\t0.38095238095238093\n",
      "Magic_Mike\t0.42857142857142855\n",
      "Man_of_Steel\t0.5257731958762887\n",
      "The_Shape_of_Water\t0.5616438356164384\n",
      "World_War_Z\t0.5617977528089888\n",
      "Hustlers\t0.5652173913043478\n",
      "Prometheus\t0.5844155844155844\n",
      "Fast_Five\t0.625\n",
      "American_Hustle\t0.6274509803921569\n",
      "Jurassic_World\t0.6287425149700598\n",
      "Once_Upon_a_Time_in_Hollywood\t0.6290322580645161\n",
      "Pitch_Perfect\t0.6428571428571429\n",
      "Fast_&_Furious:_Hobbs_&_Shaw\t0.6551724137931034\n",
      "Star_Wars:_The_Force_Awakens\t0.66\n",
      "Pokemon_Detective_Pikachu\t0.6637168141592921\n",
      "Phantom_Thread\t0.6666666666666666\n",
      "The_Hunger_Games\t0.6717948717948717\n",
      "Manchester_by_the_Sea\t0.6808510638297872\n",
      "Avengers:_Age_of_Ultron\t0.6878612716763006\n",
      "Rocketman\t0.6896551724137931\n",
      "Mad_Max:_Fury_Road\t0.6944444444444444\n",
      "Us\t0.6981132075471698\n",
      "Bridemaids\t0.7\n",
      "The_Farewell\t0.7\n",
      "Chappaquidick\t0.7058823529411765\n",
      "Good_Boys\t0.7142857142857143\n",
      "Terminator:_Dark_Fate\t0.723404255319149\n",
      "Thor\t0.7262569832402235\n",
      "The_Perks_of_Being_a_Wallflower\t0.7313432835820896\n",
      "The_Revenant\t0.7341772151898734\n",
      "The_Hateful_Eight\t0.7377049180327869\n",
      "The_Great_Gatsby\t0.7407407407407407\n",
      "Dunkirk\t0.7452830188679245\n",
      "Darkest_Hour\t0.7608695652173914\n",
      "Toy_Story_3\t0.7631578947368421\n",
      "Captain_America:_The_First_Avenger\t0.7653631284916201\n",
      "Midnight_in_Paris\t0.7692307692307693\n",
      "X-Men:_First_Class\t0.7733333333333333\n",
      "Drive\t0.775\n",
      "Frozen\t0.7758620689655172\n",
      "La_La_Land\t0.7832167832167832\n",
      "Ex_Machina\t0.7906976744186046\n",
      "Her\t0.7906976744186046\n",
      "Spiderman:_Far_From_Home\t0.7947019867549668\n",
      "21_Jump_Street\t0.7954545454545454\n",
      "Iron_Man_2\t0.8020304568527918\n",
      "Harry_Potter_and_the_Deathly_Hallows:_Part_1\t0.8038277511961722\n",
      "Room\t0.8103448275862069\n",
      "Wolf_of_Wall_Street\t0.8136645962732919\n",
      "Harry_Potter_and_the_Deathly_Hallows:_Part_2\t0.8186274509803921\n",
      "Gone_Girl\t0.8207547169811321\n",
      "The_Social_Network\t0.8244274809160306\n",
      "The_Lion_King\t0.8313953488372093\n",
      "Joker\t0.8333333333333334\n",
      "Now_You_See_Me\t0.8376623376623377\n",
      "The_Girls_with_the_Dragon_Tattoo\t0.8392857142857143\n",
      "Parasite\t0.8448275862068966\n",
      "Les_Miserables\t0.8470588235294118\n",
      "Avengers:_Endgame\t0.851063829787234\n",
      "Ready_Player_One\t0.8571428571428571\n",
      "The_Avengers\t0.8599033816425121\n",
      "12_Years_a_Slave\t0.8627450980392157\n",
      "The_Help\t0.8666666666666667\n",
      "Avengers:_Infinity_War\t0.8688524590163934\n",
      "Hidden_Figures\t0.875\n",
      "Shutter_Island\t0.8793103448275862\n",
      "Black_Swan\t0.8910891089108911\n",
      "The_Theory_of_Everything\t0.8962264150943396\n",
      "The_Dark_Knight_Rises\t0.9010989010989011\n",
      "The_Martian\t0.9014084507042254\n",
      "Django_Unchained\t0.9042553191489362\n",
      "Three_Billboards_Outside_Ebbing\t0.9076923076923077\n",
      "Interstellar\t0.9346733668341709\n",
      "Inception\t0.9858490566037735\n"
     ]
    }
   ],
   "source": [
    "sortedMovie = sort(collect(PerRecom), by=x->x[2]);\n",
    "for i in 1:nmovies\n",
    "    println(sortedMovie[i][1], \"\\t\", sortedMovie[i][2]);\n",
    "end"
   ]
  },
  {
   "cell_type": "markdown",
   "metadata": {},
   "source": [
    "## Part (e) EM Implementation"
   ]
  },
  {
   "cell_type": "markdown",
   "metadata": {},
   "source": [
    "### The E step"
   ]
  },
  {
   "cell_type": "code",
   "execution_count": 21,
   "metadata": {},
   "outputs": [
    {
     "data": {
      "text/plain": [
       "E_numerator (generic function with 1 method)"
      ]
     },
     "execution_count": 21,
     "metadata": {},
     "output_type": "execute_result"
    }
   ],
   "source": [
    "function E_numerator(slice::Array{Any,1}, Z::Array{Float64,2}, R::Array{Float64,2}, z::Int64)::Float64\n",
    "\n",
    "    prob_cond::Float64 = Z[z];\n",
    "\n",
    "    for j::Int64 = 1:nmovies\n",
    "\n",
    "        if slice[j] == 0\n",
    "            prob_cond *= 1 - R[j,z];\n",
    "        elseif slice[j] == 1\n",
    "            prob_cond *= R[j,z];\n",
    "        else\n",
    "            continue;\n",
    "        end\n",
    "\n",
    "    end\n",
    "    \n",
    "    #if (prob_cond < 0)\n",
    "    #    error(\"Negative value encountered at E-step (numerator)\");\n",
    "    #end\n",
    "    \n",
    "    return prob_cond;\n",
    "end"
   ]
  },
  {
   "cell_type": "code",
   "execution_count": 6,
   "metadata": {},
   "outputs": [
    {
     "data": {
      "text/plain": [
       "joint_prob (generic function with 1 method)"
      ]
     },
     "execution_count": 6,
     "metadata": {},
     "output_type": "execute_result"
    }
   ],
   "source": [
    "function joint_prob(slice::Array{Any,1}, Z::Array{Float64,2}, R::Array{Float64,2})::Float64\n",
    "    # Calculate P({R_j = r_j^t}j \\in \\Omega _t)\n",
    "    \n",
    "    prob_sum::Float64 = 0.0;\n",
    "    \n",
    "    for i::Int64 = 1:length(Z)\n",
    "\n",
    "        prob_sum += E_numerator(slice, Z, R, i);\n",
    "    end\n",
    "\n",
    "    return prob_sum;\n",
    "end"
   ]
  },
  {
   "cell_type": "code",
   "execution_count": 7,
   "metadata": {},
   "outputs": [
    {
     "data": {
      "text/plain": [
       "E_denominator (generic function with 1 method)"
      ]
     },
     "execution_count": 7,
     "metadata": {},
     "output_type": "execute_result"
    }
   ],
   "source": [
    "function E_denominator(slice::Array{Any,1}, Z::Array{Float64,2}, R::Array{Float64,2})::Float64\n",
    "    return joint_prob(slice, Z, R);\n",
    "end"
   ]
  },
  {
   "cell_type": "code",
   "execution_count": 8,
   "metadata": {},
   "outputs": [
    {
     "data": {
      "text/plain": [
       "E_estimate (generic function with 1 method)"
      ]
     },
     "execution_count": 8,
     "metadata": {},
     "output_type": "execute_result"
    }
   ],
   "source": [
    "function E_estimate(slice::Array{Any,1}, Z::Array{Float64,2}, R::Array{Float64,2}, z::Int64)::Float64\n",
    "    return E_numerator(slice, Z, R, z) / E_denominator(slice, Z, R);\n",
    "end"
   ]
  },
  {
   "cell_type": "markdown",
   "metadata": {},
   "source": [
    "### The M step"
   ]
  },
  {
   "cell_type": "code",
   "execution_count": 22,
   "metadata": {},
   "outputs": [
    {
     "data": {
      "text/plain": [
       "M_estimateZ (generic function with 1 method)"
      ]
     },
     "execution_count": 22,
     "metadata": {},
     "output_type": "execute_result"
    }
   ],
   "source": [
    "function M_estimateZ(data::Array{Any,2}, Z::Array{Float64,2}, R::Array{Float64,2}, z::Int64)::Float64\n",
    "    prob::Float64 = 0.0;\n",
    "    \n",
    "    for i::Int64 = 1:nstudents\n",
    "        prob += E_estimate(data[i,:], Z, R, z);\n",
    "    end\n",
    "    \n",
    "    prob /= nstudents;\n",
    "    \n",
    "    #if (prob < 0)\n",
    "    #    error(\"Negative value encountered at M-step (rhos)\");\n",
    "    #end\n",
    "        \n",
    "    return prob;\n",
    "end"
   ]
  },
  {
   "cell_type": "code",
   "execution_count": 10,
   "metadata": {},
   "outputs": [
    {
     "data": {
      "text/plain": [
       "M_numeratorR (generic function with 1 method)"
      ]
     },
     "execution_count": 10,
     "metadata": {},
     "output_type": "execute_result"
    }
   ],
   "source": [
    "function M_numeratorR(slice::Array{Any,1}, R::Array{Float64,2}, r::Int64, z::Int64, rhos::Array{Float64,1}, t::Int64)::Float64\n",
    "    if slice[r] == \"?\"\n",
    "        return rhos[t] * R[r,z];\n",
    "    else\n",
    "        return rhos[t] * slice[r];\n",
    "    end\n",
    "end"
   ]
  },
  {
   "cell_type": "code",
   "execution_count": 23,
   "metadata": {},
   "outputs": [
    {
     "data": {
      "text/plain": [
       "M_numerator (generic function with 1 method)"
      ]
     },
     "execution_count": 23,
     "metadata": {},
     "output_type": "execute_result"
    }
   ],
   "source": [
    "function M_numerator(data::Array{Any,2}, R::Array{Float64,2}, r::Int64, z::Int64, rhos::Array{Float64,1})::Float64\n",
    "    \n",
    "    prob::Float64 = 0.0;\n",
    "    \n",
    "    for i::Int64 = 1:nstudents\n",
    "        increment = M_numeratorR(data[i,:], R, r, z, rhos, i);\n",
    "        #print(increment, \" \");\n",
    "        prob += increment;\n",
    "    end\n",
    "    \n",
    "    #if (prob < 0)\n",
    "    #    error(\"Negative value encountered at M-step (numerator)\");\n",
    "    #end\n",
    "        \n",
    "    return prob;\n",
    "end"
   ]
  },
  {
   "cell_type": "code",
   "execution_count": 24,
   "metadata": {},
   "outputs": [
    {
     "data": {
      "text/plain": [
       "M_estimateR (generic function with 1 method)"
      ]
     },
     "execution_count": 24,
     "metadata": {},
     "output_type": "execute_result"
    }
   ],
   "source": [
    "function M_estimateR(data::Array{Any,2}, Z::Array{Float64,2}, R::Array{Float64,2}, r::Int64, z::Int64)::Float64\n",
    "    \n",
    "    rhos::Array{Float64,1} = zeros(nstudents);\n",
    "    for i::Int64 = 1:nstudents\n",
    "        rhos[i] = E_estimate(data[i,:], Z, R, z);\n",
    "    end\n",
    "    \n",
    "    denominator = sum(rhos);\n",
    "    numerator = M_numerator(data, R, r, z, rhos);\n",
    "    \n",
    "    newR::Float64 = numerator/denominator;\n",
    "    \n",
    "    #if (newR < 0)\n",
    "    #    error(\"Negative value encountered at M-step (R)\");\n",
    "    #elseif (newR > 1)\n",
    "    #    println(numerator, \" \", denominator);\n",
    "    #    println(r, \" \", z, \" \", newR);\n",
    "    #    error(\"Invalid probability value at M-step (R)\");\n",
    "    #end\n",
    "\n",
    "    return newR;\n",
    "end"
   ]
  },
  {
   "cell_type": "markdown",
   "metadata": {},
   "source": [
    "### log-likelihood"
   ]
  },
  {
   "cell_type": "code",
   "execution_count": 13,
   "metadata": {},
   "outputs": [
    {
     "data": {
      "text/plain": [
       "log_likelihood (generic function with 1 method)"
      ]
     },
     "execution_count": 13,
     "metadata": {},
     "output_type": "execute_result"
    }
   ],
   "source": [
    "function log_likelihood(data::Array{Any,2}, Z::Array{Float64,2}, R::Array{Float64,2})\n",
    "    \n",
    "    L::Float64 = 0.0;\n",
    "    \n",
    "    for i::Int64 = 1:nstudents\n",
    "        L += log(joint_prob(data[i,:], Z, R));\n",
    "    end\n",
    "    \n",
    "    L /= nstudents;\n",
    "    \n",
    "    return L;\n",
    "end"
   ]
  },
  {
   "cell_type": "markdown",
   "metadata": {},
   "source": [
    "### update rules"
   ]
  },
  {
   "cell_type": "code",
   "execution_count": 14,
   "metadata": {},
   "outputs": [
    {
     "data": {
      "text/plain": [
       "update (generic function with 1 method)"
      ]
     },
     "execution_count": 14,
     "metadata": {},
     "output_type": "execute_result"
    }
   ],
   "source": [
    "function update(data::Array{Any,2}, Z::Array{Float64,2}, R::Array{Float64,2})\n",
    "    \n",
    "    new_Z::Array{Float64,2} = zeros((dim_Z, 1));\n",
    "    new_R::Array{Float64,2} = zeros((dim_R, dim_Z));\n",
    "    \n",
    "    for z::Int64 = 1:dim_Z\n",
    "         new_Z[z] = M_estimateZ(data, Z, R, z);\n",
    "    end\n",
    "    \n",
    "    for r::Int64 = 1:dim_R\n",
    "        for z::Int64 = 1:dim_Z\n",
    "            new_R[r,z] = M_estimateR(data, Z, R, r, z);\n",
    "        end\n",
    "    end\n",
    "    \n",
    "    return new_Z, new_R;\n",
    "end"
   ]
  },
  {
   "cell_type": "code",
   "execution_count": 39,
   "metadata": {},
   "outputs": [
    {
     "data": {
      "text/plain": [
       "iterate (generic function with 2 methods)"
      ]
     },
     "execution_count": 39,
     "metadata": {},
     "output_type": "execute_result"
    }
   ],
   "source": [
    "function iterate(data::Array{Any,2}, initZ::Array{Float64,2}, initR::Array{Float64,2}, max_iter::Int64 = 256)\n",
    "     \n",
    "    Ls::Array{Float64,1} = zeros(max_iter+1);\n",
    "    Ls[1] = log_likelihood(data, initZ, initR);\n",
    "    \n",
    "    Z::Array{Float64,2} = deepcopy(initZ);\n",
    "    R::Array{Float64,2} = deepcopy(initR);\n",
    "    \n",
    "    println(\"L= \", Ls[1]);\n",
    "    \n",
    "    for iter::Int64 = 1:max_iter\n",
    "        #println(Z);\n",
    "        #println(R[1,:]);\n",
    "        Z, R = update(data, Z, R);\n",
    "        Ls[iter+1] = log_likelihood(data, Z, R);\n",
    "        \n",
    "        #if iter==1 || iter==16\n",
    "        #    println(\"Iter= \", iter, \" L= \", Ls[iter+1]);\n",
    "        #end\n",
    "        #Z, R = deepcopy(nZ), deepcopy(nR);\n",
    "    end\n",
    "    \n",
    "    return Ls, Z, R;\n",
    "end"
   ]
  },
  {
   "cell_type": "code",
   "execution_count": 40,
   "metadata": {},
   "outputs": [
    {
     "name": "stdout",
     "output_type": "stream",
     "text": [
      "L= -29.327593818611266\n"
     ]
    }
   ],
   "source": [
    "myL, Z, R = iterate(ratings, prob_Z, prob_R);"
   ]
  },
  {
   "cell_type": "markdown",
   "metadata": {},
   "source": [
    "##### Report Ls"
   ]
  },
  {
   "cell_type": "code",
   "execution_count": 41,
   "metadata": {},
   "outputs": [
    {
     "name": "stdout",
     "output_type": "stream",
     "text": [
      "0 iterations, likelihood is -29.327593818611266\n",
      "1 iterations, likelihood is -18.13928372437194\n",
      "2 iterations, likelihood is -16.17129923219528\n",
      "4 iterations, likelihood is -14.941642713922825\n",
      "8 iterations, likelihood is -14.21071932394614\n",
      "16 iterations, likelihood is -13.858051333076746\n",
      "32 iterations, likelihood is -13.763965178021762\n",
      "64 iterations, likelihood is -13.7398309258038\n",
      "128 iterations, likelihood is -13.737716834859478\n",
      "256 iterations, likelihood is -13.737497910546878\n"
     ]
    }
   ],
   "source": [
    "myIters = [0, 1, 2, 4, 8, 16, 32, 64, 128, 256];\n",
    "for it in myIters\n",
    "     println(it, \" iterations, likelihood is \", myL[it+1]);\n",
    "end"
   ]
  },
  {
   "cell_type": "markdown",
   "metadata": {},
   "source": [
    "### Part (f) Personal movie recommendations"
   ]
  },
  {
   "cell_type": "code",
   "execution_count": 42,
   "metadata": {},
   "outputs": [
    {
     "name": "stdout",
     "output_type": "stream",
     "text": [
      "my index in dataset is 74\n"
     ]
    }
   ],
   "source": [
    "myIndex = findall(id->id==\"U08422735\", Ids)[1][1];\n",
    "println(\"my index in dataset is \", myIndex);"
   ]
  },
  {
   "cell_type": "markdown",
   "metadata": {},
   "source": [
    "##### report posterior probability"
   ]
  },
  {
   "cell_type": "code",
   "execution_count": 45,
   "metadata": {},
   "outputs": [
    {
     "name": "stdout",
     "output_type": "stream",
     "text": [
      "Z=1, prob is 0.063243875578235\n",
      "Z=2, prob is 0.0\n",
      "Z=3, prob is 0.9171904701627055\n",
      "Z=4, prob is 0.019565654259059463\n"
     ]
    }
   ],
   "source": [
    "posterior = zeros(dim_Z);\n",
    "\n",
    "for z = 1:dim_Z\n",
    "    posterior[z] = E_estimate(ratings[myIndex,:], Z, R, z);\n",
    "    println(\"Z=\", z, \", prob is \", posterior[z]);\n",
    "end"
   ]
  },
  {
   "cell_type": "markdown",
   "metadata": {},
   "source": [
    "##### Compute expectation"
   ]
  },
  {
   "cell_type": "code",
   "execution_count": 55,
   "metadata": {},
   "outputs": [
    {
     "data": {
      "text/plain": [
       "expectation (generic function with 2 methods)"
      ]
     },
     "execution_count": 55,
     "metadata": {},
     "output_type": "execute_result"
    }
   ],
   "source": [
    "function expectation(slice::Array{Any,1}, Z::Array{Float64,2}, \n",
    "                        R::Array{Float64,2}, posterior::Array{Float64,1})::Array{Float64,1}\n",
    "    \n",
    "    ratings_expected::Array{Float64,1} = zeros(nmovies);\n",
    "    \n",
    "    for l::Int64 = 1:nmovies\n",
    "        \n",
    "        # Filter seen movies\n",
    "        if slice[l] != \"?\"\n",
    "            ratings_expected[l] = -1.0;\n",
    "            continue;\n",
    "        end\n",
    "        \n",
    "        sum::Float64 = 0.0;\n",
    "        \n",
    "        for z::Int64 = 1:dim_Z\n",
    "            sum += posterior[z] * R[l,z];\n",
    "        end\n",
    "        \n",
    "        ratings_expected[l] = sum;\n",
    "    end\n",
    "    \n",
    "    return ratings_expected;\n",
    "end"
   ]
  },
  {
   "cell_type": "code",
   "execution_count": 62,
   "metadata": {},
   "outputs": [],
   "source": [
    "my_expectation = expectation(ratings[myIndex,:], Z, R, posterior);\n",
    "movie_expectation = Dict();\n",
    "for l = 1:nmovies\n",
    "    if my_expectation[l] == -1.0\n",
    "        continue;\n",
    "    end\n",
    "    \n",
    "    movie_expectation[movies[l]] = my_expectation[l];\n",
    "end\n",
    "\n",
    "sortedExpectation = sort(collect(movie_expectation), by=x->x[2]);"
   ]
  },
  {
   "cell_type": "markdown",
   "metadata": {},
   "source": [
    "##### Report the expectations"
   ]
  },
  {
   "cell_type": "code",
   "execution_count": 69,
   "metadata": {
    "scrolled": false
   },
   "outputs": [
    {
     "name": "stdout",
     "output_type": "stream",
     "text": [
      "Movie: The_Last_Airbender\n",
      "  0.210381890523104\n",
      "Movie: Fifty_Shades_of_Grey\n",
      "  0.40985445105392376\n",
      "Movie: Magic_Mike\n",
      "  0.4347635164340712\n",
      "Movie: I_Feel_Pretty\n",
      "  0.457546131906956\n",
      "Movie: The_Shape_of_Water\n",
      "  0.5743224843153195\n",
      "Movie: Hustlers\n",
      "  0.6117910420083135\n",
      "Movie: World_War_Z\n",
      "  0.6326232255696812\n",
      "Movie: Good_Boys\n",
      "  0.6571203861956484\n",
      "Movie: Man_of_Steel\n",
      "  0.6636840981216302\n",
      "Movie: Pitch_Perfect\n",
      "  0.6902822625284639\n",
      "Movie: Fast_&_Furious:_Hobbs_&_Shaw\n",
      "  0.6903040530658958\n",
      "Movie: Bridemaids\n",
      "  0.7020865014412344\n",
      "Movie: Once_Upon_a_Time_in_Hollywood\n",
      "  0.7059194052212779\n",
      "Movie: Us\n",
      "  0.715378796629833\n",
      "Movie: American_Hustle\n",
      "  0.7309906517890273\n",
      "Movie: Manchester_by_the_Sea\n",
      "  0.7349537116228902\n",
      "Movie: Ex_Machina\n",
      "  0.7487810938075038\n",
      "Movie: The_Hunger_Games\n",
      "  0.7500642474866003\n",
      "Movie: Prometheus\n",
      "  0.7605831423173289\n",
      "Movie: Jurassic_World\n",
      "  0.7633052802742801\n",
      "Movie: Mad_Max:_Fury_Road\n",
      "  0.7702494884520378\n",
      "Movie: Phantom_Thread\n",
      "  0.7747747387992352\n",
      "Movie: Dunkirk\n",
      "  0.7857997767997764\n",
      "Movie: Midnight_in_Paris\n",
      "  0.7928949254981107\n",
      "Movie: Room\n",
      "  0.80021084014355\n",
      "Movie: Rocketman\n",
      "  0.8129963929332006\n",
      "Movie: The_Perks_of_Being_a_Wallflower\n",
      "  0.8131067962916033\n",
      "Movie: Darkest_Hour\n",
      "  0.8238698927146095\n",
      "Movie: Chappaquidick\n",
      "  0.8347326760369139\n",
      "Movie: Avengers:_Age_of_Ultron\n",
      "  0.8365559667160667\n",
      "Movie: The_Revenant\n",
      "  0.84043849681622\n",
      "Movie: X-Men:_First_Class\n",
      "  0.8481363636958975\n",
      "Movie: The_Girls_with_the_Dragon_Tattoo\n",
      "  0.8541686542904537\n",
      "Movie: 21_Jump_Street\n",
      "  0.8602432823999957\n",
      "Movie: La_La_Land\n",
      "  0.8615311911461676\n",
      "Movie: Wolf_of_Wall_Street\n",
      "  0.8722878994730688\n",
      "Movie: The_Social_Network\n",
      "  0.8754364841935459\n",
      "Movie: Her\n",
      "  0.8910656141165215\n",
      "Movie: Three_Billboards_Outside_Ebbing\n",
      "  0.8915598381179958\n",
      "Movie: Gone_Girl\n",
      "  0.9037233103515746\n",
      "Movie: Les_Miserables\n",
      "  0.9047222354294773\n",
      "Movie: Drive\n",
      "  0.9125193569686242\n",
      "Movie: The_Theory_of_Everything\n",
      "  0.9127532931961408\n",
      "Movie: The_Help\n",
      "  0.9212942774546079\n",
      "Movie: Now_You_See_Me\n",
      "  0.9221558864788038\n",
      "Movie: 12_Years_a_Slave\n",
      "  0.9272424169013461\n",
      "Movie: The_Farewell\n",
      "  0.9362790694247214\n",
      "Movie: Ready_Player_One\n",
      "  0.9427473268851914\n",
      "Movie: Shutter_Island\n",
      "  0.955208969647777\n",
      "Movie: Interstellar\n",
      "  0.9570614204186473\n",
      "Movie: Django_Unchained\n",
      "  0.9591686817473224\n",
      "Movie: The_Hateful_Eight\n",
      "  0.959667329562569\n",
      "Movie: The_Martian\n",
      "  0.9613274492759013\n",
      "Movie: Hidden_Figures\n",
      "  0.9688717732944452\n"
     ]
    }
   ],
   "source": [
    "for pair in sortedExpectation\n",
    "     println(\"Movie: \", pair[1], \"\\n  \", pair[2]);\n",
    "end"
   ]
  }
 ],
 "metadata": {
  "kernelspec": {
   "display_name": "Julia 1.1.1",
   "language": "julia",
   "name": "julia-1.1"
  },
  "language_info": {
   "file_extension": ".jl",
   "mimetype": "application/julia",
   "name": "julia",
   "version": "1.1.1"
  }
 },
 "nbformat": 4,
 "nbformat_minor": 2
}
